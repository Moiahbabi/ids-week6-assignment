{
 "cells": [
  {
   "cell_type": "markdown",
   "id": "342010fb-9d29-442e-a359-d15fe6f2ba3d",
   "metadata": {},
   "source": [
    "# Data Science Tools and Ecosystem"
   ]
  },
  {
   "cell_type": "markdown",
   "id": "46ebef10-a068-4da8-8557-b200b8208e6b",
   "metadata": {},
   "source": [
    "In this notebook, Data Science Tools and Ecosystem are summarized.  \n",
    "\n",
    "**Objectives:**\n",
    "* List popular languages for Data Science.\n",
    "* List some of the commonly used Libraries for Data Scientists.\n",
    "* List open-source development environment for Data Science. \n",
    "* evaluate arithemtic expression in python."
   ]
  },
  {
   "cell_type": "markdown",
   "id": "69e85063-7813-4dcd-b80a-9313212347df",
   "metadata": {
    "tags": []
   },
   "source": [
    "Some of the popular languages that Data Scientists use are:\n",
    "1. Python\n",
    "1. R Language\n",
    "1. SQL\n",
    "1. SCALA"
   ]
  },
  {
   "cell_type": "markdown",
   "id": "f341dc6a-bb97-404b-919c-61d818113300",
   "metadata": {
    "tags": []
   },
   "source": [
    "Some of the commonly used libraries used by Data Scientists include:\n",
    "1. Pandas\n",
    "1. Numpy\n",
    "1. Matplotlib\n",
    "1. Scikit-learn\n",
    "1. TensorFlow\n",
    "1. PyTorch"
   ]
  },
  {
   "cell_type": "markdown",
   "id": "47e08881-f3d6-41db-a9a6-7b3538622ada",
   "metadata": {},
   "source": [
    "|Data Science Tools|\n",
    "|---|\n",
    "|Jupyter Lab|\n",
    "|R Studio|\n",
    "|Apache Zeppelin|"
   ]
  },
  {
   "cell_type": "markdown",
   "id": "b862380f-dbbf-4617-81ef-6eaad339683f",
   "metadata": {},
   "source": [
    "### Below are a few examples of evaluating arithmetic expressions in Python"
   ]
  },
  {
   "cell_type": "code",
   "execution_count": 3,
   "id": "b3726e58-5de5-4646-85b2-f4ddd2eb147f",
   "metadata": {
    "tags": []
   },
   "outputs": [
    {
     "data": {
      "text/plain": [
       "17"
      ]
     },
     "execution_count": 3,
     "metadata": {},
     "output_type": "execute_result"
    }
   ],
   "source": [
    "# This a simple arithmetic expression to mutiply then add integers\n",
    "(3*4)+5"
   ]
  },
  {
   "cell_type": "code",
   "execution_count": 7,
   "id": "07d0be73-62b9-4201-a8d2-37f17f2c7c03",
   "metadata": {
    "tags": []
   },
   "outputs": [
    {
     "data": {
      "text/plain": [
       "3.3333333333333335"
      ]
     },
     "execution_count": 7,
     "metadata": {},
     "output_type": "execute_result"
    }
   ],
   "source": [
    "# This will convert 200 minutes to hours by diving by 60\n",
    "minutes = 200\n",
    "hours = minutes / 60\n",
    "hours"
   ]
  },
  {
   "cell_type": "markdown",
   "id": "94a2240a-a37b-4db5-9015-c98ef5b8b5fc",
   "metadata": {
    "tags": []
   },
   "source": [
    "---"
   ]
  },
  {
   "cell_type": "markdown",
   "id": "be4bb1eb-b8f7-47ea-aaaa-88713ffc647d",
   "metadata": {},
   "source": [
    "## Author"
   ]
  },
  {
   "cell_type": "markdown",
   "id": "7ee19a8e-c091-475c-adac-b08f634502c2",
   "metadata": {
    "tags": []
   },
   "source": [
    "Mohammed Ahbabi"
   ]
  },
  {
   "cell_type": "code",
   "execution_count": null,
   "id": "29bee9d3-bf44-4631-a061-372278e514f5",
   "metadata": {},
   "outputs": [],
   "source": []
  }
 ],
 "metadata": {
  "kernelspec": {
   "display_name": "Python 3 (ipykernel)",
   "language": "python",
   "name": "python3"
  },
  "language_info": {
   "codemirror_mode": {
    "name": "ipython",
    "version": 3
   },
   "file_extension": ".py",
   "mimetype": "text/x-python",
   "name": "python",
   "nbconvert_exporter": "python",
   "pygments_lexer": "ipython3",
   "version": "3.11.3"
  }
 },
 "nbformat": 4,
 "nbformat_minor": 5
}
